{
  "nbformat": 4,
  "nbformat_minor": 0,
  "metadata": {
    "colab": {
      "provenance": []
    },
    "kernelspec": {
      "name": "python3",
      "display_name": "Python 3"
    },
    "language_info": {
      "name": "python"
    }
  },
  "cells": [
    {
      "cell_type": "markdown",
      "source": [
        "## 1.Import & Data Loading"
      ],
      "metadata": {
        "id": "EccoLuDrmrAw"
      }
    },
    {
      "cell_type": "code",
      "execution_count": 50,
      "metadata": {
        "id": "IEKZG8lOmp9a"
      },
      "outputs": [],
      "source": [
        "import numpy as np\n",
        "import pandas as pd\n",
        "\n",
        "# Viz\n",
        "import seaborn as sns\n",
        "import matplotlib.pyplot as plt\n",
        "%matplotlib inline\n",
        "\n",
        "# ML & Preprocessing\n",
        "from sklearn.model_selection import train_test_split, KFold, GridSearchCV\n",
        "from sklearn.preprocessing import StandardScaler\n",
        "from sklearn.metrics import (\n",
        "    accuracy_score, precision_score, recall_score, f1_score, roc_auc_score\n",
        ")\n",
        "from sklearn.linear_model import LogisticRegression\n",
        "from sklearn.tree import DecisionTreeClassifier\n",
        "from sklearn.neighbors import KNeighborsClassifier\n",
        "from sklearn.ensemble import RandomForestClassifier\n",
        "from imblearn.over_sampling import SMOTE\n"
      ]
    },
    {
      "cell_type": "code",
      "source": [
        "defect_dataset = pd.read_csv('/content/defect_dataset-ant-1.3.csv')"
      ],
      "metadata": {
        "id": "s3_uAhbPm7Ve"
      },
      "execution_count": 51,
      "outputs": []
    },
    {
      "cell_type": "markdown",
      "source": [
        "## 2.\tData Visualization and Exploration\n"
      ],
      "metadata": {
        "id": "8DBO9ofunY49"
      }
    },
    {
      "cell_type": "code",
      "source": [
        "# sanity check\n",
        "display(defect_dataset.head(2))\n"
      ],
      "metadata": {
        "colab": {
          "base_uri": "https://localhost:8080/",
          "height": 141
        },
        "id": "4VMkFfbnm7R6",
        "outputId": "09dbb14e-7136-4051-bb2c-bb9d6df6cbae"
      },
      "execution_count": 52,
      "outputs": [
        {
          "output_type": "display_data",
          "data": {
            "text/plain": [
              "  name  version                                          name.1  wmc  dit  \\\n",
              "0  ant      1.3         org.apache.tools.ant.taskdefs.ExecuteOn   11    4   \n",
              "1  ant      1.3  org.apache.tools.ant.taskdefs.TaskOutputStream    3    2   \n",
              "\n",
              "   noc  cbo  rfc  lcom  ca  ...  dam  moa       mfa       cam  ic  cbm  \\\n",
              "0    2   14   42    29   2  ...  1.0    1  0.885057  0.232323   3    4   \n",
              "1    0    1    9     0   0  ...  1.0    1  0.714286  0.666667   1    1   \n",
              "\n",
              "         amc  max_cc  avg_cc  bug  \n",
              "0  34.545455       3  1.2727    0  \n",
              "1  17.333333       1  0.6667    0  \n",
              "\n",
              "[2 rows x 24 columns]"
            ],
            "text/html": [
              "\n",
              "  <div id=\"df-7c328df0-0dd2-47d5-9b21-c09c60240716\" class=\"colab-df-container\">\n",
              "    <div>\n",
              "<style scoped>\n",
              "    .dataframe tbody tr th:only-of-type {\n",
              "        vertical-align: middle;\n",
              "    }\n",
              "\n",
              "    .dataframe tbody tr th {\n",
              "        vertical-align: top;\n",
              "    }\n",
              "\n",
              "    .dataframe thead th {\n",
              "        text-align: right;\n",
              "    }\n",
              "</style>\n",
              "<table border=\"1\" class=\"dataframe\">\n",
              "  <thead>\n",
              "    <tr style=\"text-align: right;\">\n",
              "      <th></th>\n",
              "      <th>name</th>\n",
              "      <th>version</th>\n",
              "      <th>name.1</th>\n",
              "      <th>wmc</th>\n",
              "      <th>dit</th>\n",
              "      <th>noc</th>\n",
              "      <th>cbo</th>\n",
              "      <th>rfc</th>\n",
              "      <th>lcom</th>\n",
              "      <th>ca</th>\n",
              "      <th>...</th>\n",
              "      <th>dam</th>\n",
              "      <th>moa</th>\n",
              "      <th>mfa</th>\n",
              "      <th>cam</th>\n",
              "      <th>ic</th>\n",
              "      <th>cbm</th>\n",
              "      <th>amc</th>\n",
              "      <th>max_cc</th>\n",
              "      <th>avg_cc</th>\n",
              "      <th>bug</th>\n",
              "    </tr>\n",
              "  </thead>\n",
              "  <tbody>\n",
              "    <tr>\n",
              "      <th>0</th>\n",
              "      <td>ant</td>\n",
              "      <td>1.3</td>\n",
              "      <td>org.apache.tools.ant.taskdefs.ExecuteOn</td>\n",
              "      <td>11</td>\n",
              "      <td>4</td>\n",
              "      <td>2</td>\n",
              "      <td>14</td>\n",
              "      <td>42</td>\n",
              "      <td>29</td>\n",
              "      <td>2</td>\n",
              "      <td>...</td>\n",
              "      <td>1.0</td>\n",
              "      <td>1</td>\n",
              "      <td>0.885057</td>\n",
              "      <td>0.232323</td>\n",
              "      <td>3</td>\n",
              "      <td>4</td>\n",
              "      <td>34.545455</td>\n",
              "      <td>3</td>\n",
              "      <td>1.2727</td>\n",
              "      <td>0</td>\n",
              "    </tr>\n",
              "    <tr>\n",
              "      <th>1</th>\n",
              "      <td>ant</td>\n",
              "      <td>1.3</td>\n",
              "      <td>org.apache.tools.ant.taskdefs.TaskOutputStream</td>\n",
              "      <td>3</td>\n",
              "      <td>2</td>\n",
              "      <td>0</td>\n",
              "      <td>1</td>\n",
              "      <td>9</td>\n",
              "      <td>0</td>\n",
              "      <td>0</td>\n",
              "      <td>...</td>\n",
              "      <td>1.0</td>\n",
              "      <td>1</td>\n",
              "      <td>0.714286</td>\n",
              "      <td>0.666667</td>\n",
              "      <td>1</td>\n",
              "      <td>1</td>\n",
              "      <td>17.333333</td>\n",
              "      <td>1</td>\n",
              "      <td>0.6667</td>\n",
              "      <td>0</td>\n",
              "    </tr>\n",
              "  </tbody>\n",
              "</table>\n",
              "<p>2 rows × 24 columns</p>\n",
              "</div>\n",
              "    <div class=\"colab-df-buttons\">\n",
              "\n",
              "  <div class=\"colab-df-container\">\n",
              "    <button class=\"colab-df-convert\" onclick=\"convertToInteractive('df-7c328df0-0dd2-47d5-9b21-c09c60240716')\"\n",
              "            title=\"Convert this dataframe to an interactive table.\"\n",
              "            style=\"display:none;\">\n",
              "\n",
              "  <svg xmlns=\"http://www.w3.org/2000/svg\" height=\"24px\" viewBox=\"0 -960 960 960\">\n",
              "    <path d=\"M120-120v-720h720v720H120Zm60-500h600v-160H180v160Zm220 220h160v-160H400v160Zm0 220h160v-160H400v160ZM180-400h160v-160H180v160Zm440 0h160v-160H620v160ZM180-180h160v-160H180v160Zm440 0h160v-160H620v160Z\"/>\n",
              "  </svg>\n",
              "    </button>\n",
              "\n",
              "  <style>\n",
              "    .colab-df-container {\n",
              "      display:flex;\n",
              "      gap: 12px;\n",
              "    }\n",
              "\n",
              "    .colab-df-convert {\n",
              "      background-color: #E8F0FE;\n",
              "      border: none;\n",
              "      border-radius: 50%;\n",
              "      cursor: pointer;\n",
              "      display: none;\n",
              "      fill: #1967D2;\n",
              "      height: 32px;\n",
              "      padding: 0 0 0 0;\n",
              "      width: 32px;\n",
              "    }\n",
              "\n",
              "    .colab-df-convert:hover {\n",
              "      background-color: #E2EBFA;\n",
              "      box-shadow: 0px 1px 2px rgba(60, 64, 67, 0.3), 0px 1px 3px 1px rgba(60, 64, 67, 0.15);\n",
              "      fill: #174EA6;\n",
              "    }\n",
              "\n",
              "    .colab-df-buttons div {\n",
              "      margin-bottom: 4px;\n",
              "    }\n",
              "\n",
              "    [theme=dark] .colab-df-convert {\n",
              "      background-color: #3B4455;\n",
              "      fill: #D2E3FC;\n",
              "    }\n",
              "\n",
              "    [theme=dark] .colab-df-convert:hover {\n",
              "      background-color: #434B5C;\n",
              "      box-shadow: 0px 1px 3px 1px rgba(0, 0, 0, 0.15);\n",
              "      filter: drop-shadow(0px 1px 2px rgba(0, 0, 0, 0.3));\n",
              "      fill: #FFFFFF;\n",
              "    }\n",
              "  </style>\n",
              "\n",
              "    <script>\n",
              "      const buttonEl =\n",
              "        document.querySelector('#df-7c328df0-0dd2-47d5-9b21-c09c60240716 button.colab-df-convert');\n",
              "      buttonEl.style.display =\n",
              "        google.colab.kernel.accessAllowed ? 'block' : 'none';\n",
              "\n",
              "      async function convertToInteractive(key) {\n",
              "        const element = document.querySelector('#df-7c328df0-0dd2-47d5-9b21-c09c60240716');\n",
              "        const dataTable =\n",
              "          await google.colab.kernel.invokeFunction('convertToInteractive',\n",
              "                                                    [key], {});\n",
              "        if (!dataTable) return;\n",
              "\n",
              "        const docLinkHtml = 'Like what you see? Visit the ' +\n",
              "          '<a target=\"_blank\" href=https://colab.research.google.com/notebooks/data_table.ipynb>data table notebook</a>'\n",
              "          + ' to learn more about interactive tables.';\n",
              "        element.innerHTML = '';\n",
              "        dataTable['output_type'] = 'display_data';\n",
              "        await google.colab.output.renderOutput(dataTable, element);\n",
              "        const docLink = document.createElement('div');\n",
              "        docLink.innerHTML = docLinkHtml;\n",
              "        element.appendChild(docLink);\n",
              "      }\n",
              "    </script>\n",
              "  </div>\n",
              "\n",
              "\n",
              "    <div id=\"df-bcb3b800-5472-4c83-bf03-aa8d78172ea0\">\n",
              "      <button class=\"colab-df-quickchart\" onclick=\"quickchart('df-bcb3b800-5472-4c83-bf03-aa8d78172ea0')\"\n",
              "                title=\"Suggest charts\"\n",
              "                style=\"display:none;\">\n",
              "\n",
              "<svg xmlns=\"http://www.w3.org/2000/svg\" height=\"24px\"viewBox=\"0 0 24 24\"\n",
              "     width=\"24px\">\n",
              "    <g>\n",
              "        <path d=\"M19 3H5c-1.1 0-2 .9-2 2v14c0 1.1.9 2 2 2h14c1.1 0 2-.9 2-2V5c0-1.1-.9-2-2-2zM9 17H7v-7h2v7zm4 0h-2V7h2v10zm4 0h-2v-4h2v4z\"/>\n",
              "    </g>\n",
              "</svg>\n",
              "      </button>\n",
              "\n",
              "<style>\n",
              "  .colab-df-quickchart {\n",
              "      --bg-color: #E8F0FE;\n",
              "      --fill-color: #1967D2;\n",
              "      --hover-bg-color: #E2EBFA;\n",
              "      --hover-fill-color: #174EA6;\n",
              "      --disabled-fill-color: #AAA;\n",
              "      --disabled-bg-color: #DDD;\n",
              "  }\n",
              "\n",
              "  [theme=dark] .colab-df-quickchart {\n",
              "      --bg-color: #3B4455;\n",
              "      --fill-color: #D2E3FC;\n",
              "      --hover-bg-color: #434B5C;\n",
              "      --hover-fill-color: #FFFFFF;\n",
              "      --disabled-bg-color: #3B4455;\n",
              "      --disabled-fill-color: #666;\n",
              "  }\n",
              "\n",
              "  .colab-df-quickchart {\n",
              "    background-color: var(--bg-color);\n",
              "    border: none;\n",
              "    border-radius: 50%;\n",
              "    cursor: pointer;\n",
              "    display: none;\n",
              "    fill: var(--fill-color);\n",
              "    height: 32px;\n",
              "    padding: 0;\n",
              "    width: 32px;\n",
              "  }\n",
              "\n",
              "  .colab-df-quickchart:hover {\n",
              "    background-color: var(--hover-bg-color);\n",
              "    box-shadow: 0 1px 2px rgba(60, 64, 67, 0.3), 0 1px 3px 1px rgba(60, 64, 67, 0.15);\n",
              "    fill: var(--button-hover-fill-color);\n",
              "  }\n",
              "\n",
              "  .colab-df-quickchart-complete:disabled,\n",
              "  .colab-df-quickchart-complete:disabled:hover {\n",
              "    background-color: var(--disabled-bg-color);\n",
              "    fill: var(--disabled-fill-color);\n",
              "    box-shadow: none;\n",
              "  }\n",
              "\n",
              "  .colab-df-spinner {\n",
              "    border: 2px solid var(--fill-color);\n",
              "    border-color: transparent;\n",
              "    border-bottom-color: var(--fill-color);\n",
              "    animation:\n",
              "      spin 1s steps(1) infinite;\n",
              "  }\n",
              "\n",
              "  @keyframes spin {\n",
              "    0% {\n",
              "      border-color: transparent;\n",
              "      border-bottom-color: var(--fill-color);\n",
              "      border-left-color: var(--fill-color);\n",
              "    }\n",
              "    20% {\n",
              "      border-color: transparent;\n",
              "      border-left-color: var(--fill-color);\n",
              "      border-top-color: var(--fill-color);\n",
              "    }\n",
              "    30% {\n",
              "      border-color: transparent;\n",
              "      border-left-color: var(--fill-color);\n",
              "      border-top-color: var(--fill-color);\n",
              "      border-right-color: var(--fill-color);\n",
              "    }\n",
              "    40% {\n",
              "      border-color: transparent;\n",
              "      border-right-color: var(--fill-color);\n",
              "      border-top-color: var(--fill-color);\n",
              "    }\n",
              "    60% {\n",
              "      border-color: transparent;\n",
              "      border-right-color: var(--fill-color);\n",
              "    }\n",
              "    80% {\n",
              "      border-color: transparent;\n",
              "      border-right-color: var(--fill-color);\n",
              "      border-bottom-color: var(--fill-color);\n",
              "    }\n",
              "    90% {\n",
              "      border-color: transparent;\n",
              "      border-bottom-color: var(--fill-color);\n",
              "    }\n",
              "  }\n",
              "</style>\n",
              "\n",
              "      <script>\n",
              "        async function quickchart(key) {\n",
              "          const quickchartButtonEl =\n",
              "            document.querySelector('#' + key + ' button');\n",
              "          quickchartButtonEl.disabled = true;  // To prevent multiple clicks.\n",
              "          quickchartButtonEl.classList.add('colab-df-spinner');\n",
              "          try {\n",
              "            const charts = await google.colab.kernel.invokeFunction(\n",
              "                'suggestCharts', [key], {});\n",
              "          } catch (error) {\n",
              "            console.error('Error during call to suggestCharts:', error);\n",
              "          }\n",
              "          quickchartButtonEl.classList.remove('colab-df-spinner');\n",
              "          quickchartButtonEl.classList.add('colab-df-quickchart-complete');\n",
              "        }\n",
              "        (() => {\n",
              "          let quickchartButtonEl =\n",
              "            document.querySelector('#df-bcb3b800-5472-4c83-bf03-aa8d78172ea0 button');\n",
              "          quickchartButtonEl.style.display =\n",
              "            google.colab.kernel.accessAllowed ? 'block' : 'none';\n",
              "        })();\n",
              "      </script>\n",
              "    </div>\n",
              "\n",
              "    </div>\n",
              "  </div>\n"
            ],
            "application/vnd.google.colaboratory.intrinsic+json": {
              "type": "dataframe"
            }
          },
          "metadata": {}
        }
      ]
    },
    {
      "cell_type": "code",
      "source": [
        "num_cols_all = defect_dataset.select_dtypes(include=np.number).columns.tolist()\n",
        "if 'bug' not in num_cols_all:\n",
        "    raise ValueError(\"'bug' must be numeric and present in the dataset for correlation.\")\n",
        "\n",
        "corr = defect_dataset[num_cols_all].corr(numeric_only=True)"
      ],
      "metadata": {
        "id": "BjA64rpTnicf"
      },
      "execution_count": 53,
      "outputs": []
    },
    {
      "cell_type": "code",
      "source": [
        "# Heatmap (upper triangle for readability)\n",
        "mask = np.triu(np.ones_like(corr, dtype=bool))\n",
        "plt.figure(figsize=(12, 10))\n",
        "sns.heatmap(corr, mask=mask, cmap=\"coolwarm\", center=0, annot=False, linewidths=.5)\n",
        "plt.title(\"Correlation Heatmap (Upper Triangle)\")\n",
        "plt.tight_layout()\n",
        "plt.show()"
      ],
      "metadata": {
        "colab": {
          "base_uri": "https://localhost:8080/",
          "height": 1000
        },
        "id": "MQmRzxmXn5j6",
        "outputId": "f7d741e5-c1b4-4374-b71f-5b585b62ce80"
      },
      "execution_count": 54,
      "outputs": [
        {
          "output_type": "display_data",
          "data": {
            "text/plain": [
              "<Figure size 1200x1000 with 2 Axes>"
            ],
            "image/png": "[encoded data removed]"
          },
          "metadata": {}
        }
      ]
    },
    {
      "cell_type": "code",
      "source": [
        "# Absolute correlation with target (bar plot)\n",
        "bug_corr = corr['bug'].abs().sort_values(ascending=False)\n",
        "plt.figure(figsize=(10, max(4, 0.35*len(bug_corr))))\n",
        "sns.barplot(x=bug_corr.values, y=bug_corr.index, orient='h')\n",
        "plt.xlabel(\"Absolute Pearson correlation with 'bug'\")\n",
        "plt.ylabel(\"Feature\")\n",
        "plt.title(\"Feature–Target Correlation (|r|)\")\n",
        "plt.tight_layout()\n",
        "plt.show()"
      ],
      "metadata": {
        "colab": {
          "base_uri": "https://localhost:8080/",
          "height": 776
        },
        "id": "MDP6n2VWoBP1",
        "outputId": "0942ab3a-7a46-423f-9a44-07e2dc1bb610"
      },
      "execution_count": 55,
      "outputs": [
        {
          "output_type": "display_data",
          "data": {
            "text/plain": [
              "<Figure size 1000x770 with 1 Axes>"
            ],
            "image/png": "[encoded data removed]"
          },
          "metadata": {}
        }
      ]
    },
    {
      "cell_type": "code",
      "source": [
        "# Lightweight low-correlation prefilter\n",
        "CORR_THRESHOLD = 0.10\n",
        "low_corr_feats = bug_corr[bug_corr < CORR_THRESHOLD].index.tolist()\n",
        "print(\"Low-correlation features (< 0.10):\", low_corr_feats)\n"
      ],
      "metadata": {
        "colab": {
          "base_uri": "https://localhost:8080/"
        },
        "id": "dUABZUcboHec",
        "outputId": "613d2b9c-96a9-4a1e-b68b-64b586ddfba0"
      },
      "execution_count": 56,
      "outputs": [
        {
          "output_type": "stream",
          "name": "stdout",
          "text": [
            "Low-correlation features (< 0.10): ['cbm', 'mfa', 'lcom3', 'ic', 'dit', 'noc']\n"
          ]
        }
      ]
    },
    {
      "cell_type": "code",
      "source": [
        "# Explicitly drop 'version' if present (often NaN corr or non-numeric in this dataset)\n",
        "features_to_drop = set(low_corr_feats)\n",
        "if 'version' in defect_dataset.columns:\n",
        "    features_to_drop.add('version')"
      ],
      "metadata": {
        "id": "fAqWDa-OoK4J"
      },
      "execution_count": 57,
      "outputs": []
    },
    {
      "cell_type": "code",
      "source": [
        "# Safe drop\n",
        "to_drop = [c for c in features_to_drop if c in defect_dataset.columns]\n",
        "df_drop = defect_dataset.drop(columns=to_drop)\n",
        "print(\"Original dataset shape:\", defect_dataset.shape)\n",
        "print(\"Dataset shape after low-corr drop:\", df_drop.shape)"
      ],
      "metadata": {
        "colab": {
          "base_uri": "https://localhost:8080/"
        },
        "id": "BL86lOYroS2w",
        "outputId": "e4e32e96-1b76-464d-e8f2-f1e40f283b9d"
      },
      "execution_count": 58,
      "outputs": [
        {
          "output_type": "stream",
          "name": "stdout",
          "text": [
            "Original dataset shape: (116, 24)\n",
            "Dataset shape after low-corr drop: (116, 17)\n"
          ]
        }
      ]
    },
    {
      "cell_type": "markdown",
      "source": [
        "Correlation analysis was performed on all numeric features with respect to the target bug. A heatmap highlighted overall relationships, while a bar plot of absolute correlations showed which features were most strongly associated with the target. Features with very low correlation (|r| < 0.10) were removed, along with redundant features that were highly collinear.\n",
        "\n",
        "This analysis influences feature selection, as dropping low-correlation and redundant features reduces noise, avoids duplication, and improves model efficiency and accuracy. Since correlation only captures linear relationships, it served as a preliminary filter, with final selection guided by model-based feature importance."
      ],
      "metadata": {
        "id": "0UiACrqUo2tP"
      }
    },
    {
      "cell_type": "markdown",
      "source": [
        "## 3.\tData Pre-processing and cleaning"
      ],
      "metadata": {
        "id": "uRg2ml7Io4IS"
      }
    },
    {
      "cell_type": "code",
      "source": [
        "# Null check\n",
        "print(\"\\nNull values per column after drop:\")\n",
        "print(df_drop.isnull().sum().sort_values(ascending=False))\n"
      ],
      "metadata": {
        "colab": {
          "base_uri": "https://localhost:8080/"
        },
        "id": "_cBwl1wxo8K4",
        "outputId": "19e2a71a-87fd-4fcd-c029-ac72f51742c0"
      },
      "execution_count": 59,
      "outputs": [
        {
          "output_type": "stream",
          "name": "stdout",
          "text": [
            "\n",
            "Null values per column after drop:\n",
            "name      0\n",
            "name.1    0\n",
            "wmc       0\n",
            "cbo       0\n",
            "rfc       0\n",
            "lcom      0\n",
            "ca        0\n",
            "ce        0\n",
            "npm       0\n",
            "loc       0\n",
            "dam       0\n",
            "moa       0\n",
            "cam       0\n",
            "amc       0\n",
            "max_cc    0\n",
            "avg_cc    0\n",
            "bug       0\n",
            "dtype: int64\n"
          ]
        }
      ]
    },
    {
      "cell_type": "code",
      "source": [
        "# cap outliers for numeric columns EXCEPT the target 'bug'.\n",
        "num_cols = df_drop.select_dtypes(include=np.number).columns.tolist()\n",
        "feature_cols_for_capping = [c for c in num_cols if c != 'bug']\n",
        "\n",
        "def cap_outliers(df_in, col, q_low=0.01, q_high=0.99):\n",
        "    q1 = df_in[col].quantile(q_low)\n",
        "    q99 = df_in[col].quantile(q_high)\n",
        "    df_in[col] = df_in[col].clip(lower=q1, upper=q99)\n",
        "\n",
        "df_cap = df_drop.copy()\n",
        "for c in feature_cols_for_capping:\n",
        "    cap_outliers(df_cap, c)"
      ],
      "metadata": {
        "id": "lwwG6sOvpkNp"
      },
      "execution_count": 60,
      "outputs": []
    },
    {
      "cell_type": "code",
      "source": [
        "# Skewness (exclude target)\n",
        "skew_vals = df_cap[feature_cols_for_capping].skew()\n",
        "print(\"\\nSkewness (pre-log):\")\n",
        "print(skew_vals.sort_values(ascending=False))\n"
      ],
      "metadata": {
        "colab": {
          "base_uri": "https://localhost:8080/"
        },
        "id": "Jb14akHuppz_",
        "outputId": "61242561-799e-4e00-9b23-dac280173539"
      },
      "execution_count": null,
      "outputs": [
        {
          "output_type": "stream",
          "name": "stdout",
          "text": [
            "\n",
            "Skewness (pre-log):\n",
            "lcom      6.119927\n",
            "ca        4.835084\n",
            "cbo       4.416485\n",
            "npm       3.097247\n",
            "wmc       2.898385\n",
            "avg_cc    2.392354\n",
            "loc       2.136368\n",
            "moa       1.982801\n",
            "max_cc    1.766840\n",
            "rfc       1.733730\n",
            "amc       1.348511\n",
            "ce        0.862980\n",
            "cam       0.452441\n",
            "dam      -1.287844\n",
            "dtype: float64\n"
          ]
        }
      ]
    },
    {
      "cell_type": "code",
      "source": [
        "# Log1p transform for |skew| > 1 (exclude 'bug')\n",
        "skewed_feats = skew_vals[skew_vals.abs() > 1].index.tolist()\n",
        "df_cap_log = df_cap.copy()\n",
        "for c in skewed_feats:\n",
        "    # guard against negatives: if min < 0, shift by adding |min|+1 before log1p\n",
        "    if df_cap_log[c].min() < 0:\n",
        "        shift = abs(df_cap_log[c].min()) + 1\n",
        "        df_cap_log[c] = np.log1p(df_cap_log[c] + shift)\n",
        "    else:\n",
        "        df_cap_log[c] = np.log1p(df_cap_log[c])\n",
        "\n",
        "print(\"\\nApplied log1p to skewed features:\", skewed_feats)"
      ],
      "metadata": {
        "colab": {
          "base_uri": "https://localhost:8080/"
        },
        "id": "6JGtq_vEpthl",
        "outputId": "e8bbc36d-0906-4df3-f90d-e4eacd94c71f"
      },
      "execution_count": 61,
      "outputs": [
        {
          "output_type": "stream",
          "name": "stdout",
          "text": [
            "\n",
            "Applied log1p to skewed features: ['wmc', 'cbo', 'rfc', 'lcom', 'ca', 'npm', 'loc', 'dam', 'moa', 'amc', 'max_cc', 'avg_cc']\n"
          ]
        }
      ]
    },
    {
      "cell_type": "code",
      "source": [
        "# Recompute skewness (sanity)\n",
        "new_skew = df_cap_log[feature_cols_for_capping].skew()\n",
        "print(\"\\nSkewness (post-log where applied):\")\n",
        "print(new_skew.sort_values(ascending=False))"
      ],
      "metadata": {
        "colab": {
          "base_uri": "https://localhost:8080/"
        },
        "id": "wo6YdkCPpwlo",
        "outputId": "97622764-1734-418b-d8c2-0edce3e6e69f"
      },
      "execution_count": 62,
      "outputs": [
        {
          "output_type": "stream",
          "name": "stdout",
          "text": [
            "\n",
            "Skewness (post-log where applied):\n",
            "ca        1.283452\n",
            "moa       1.142300\n",
            "avg_cc    0.966165\n",
            "ce        0.862980\n",
            "lcom      0.617488\n",
            "max_cc    0.514068\n",
            "cbo       0.452739\n",
            "cam       0.452441\n",
            "wmc       0.136749\n",
            "npm       0.071230\n",
            "rfc      -0.737729\n",
            "loc      -0.948291\n",
            "dam      -1.329250\n",
            "amc      -1.419965\n",
            "dtype: float64\n"
          ]
        }
      ]
    },
    {
      "cell_type": "markdown",
      "source": [
        "Pre-processing Steps:\n",
        "\n",
        "Checked for missing values; none required major imputation.\n",
        "\n",
        "Outliers in numeric features were capped at the 1st and 99th percentiles (excluding the target).\n",
        "\n",
        "Skewed features (|skew| > 1) were identified and corrected using log1p transformation.\n",
        "\n",
        "Post-transformation skewness was rechecked to ensure distributions were normalized."
      ],
      "metadata": {
        "id": "zITfoQy5p4dc"
      }
    },
    {
      "cell_type": "code",
      "source": [
        "df_model = df_cap_log.copy()\n",
        "# Separate target\n",
        "y = df_model['bug']\n",
        "X_num = df_model.select_dtypes(include=np.number).drop(columns=['bug'])\n",
        "# Scale\n",
        "scaler = StandardScaler()\n",
        "X_scaled = pd.DataFrame(scaler.fit_transform(X_num), columns=X_num.columns, index=X_num.index)\n",
        "# Identify and drop non-numeric identifier columns before building X\n",
        "obj_cols = df_model.select_dtypes(exclude=np.number).columns.tolist()\n",
        "print(\"\\nNon-numeric columns dropped:\", obj_cols)\n",
        "\n",
        "df_model = df_model.drop(columns=obj_cols)\n",
        "\n",
        "# Build final feature matrix (numeric scaled only)\n",
        "X = X_scaled.copy()"
      ],
      "metadata": {
        "colab": {
          "base_uri": "https://localhost:8080/"
        },
        "id": "FAGM5Uo0qAFy",
        "outputId": "60e08718-9374-48bd-aa5e-b1c1cdde4be8"
      },
      "execution_count": 65,
      "outputs": [
        {
          "output_type": "stream",
          "name": "stdout",
          "text": [
            "\n",
            "Non-numeric columns dropped: ['name', 'name.1']\n"
          ]
        }
      ]
    },
    {
      "cell_type": "markdown",
      "source": [
        "Outliers were capped (1st–99th percentiles) and skewed features were log-transformed to reduce distortion. Standardization was applied so all numeric features had comparable scales. Non-numeric identifiers (name, name.1) were dropped. Feature importance was explored using correlation with the target and Random Forest importances to retain only meaningful predictors."
      ],
      "metadata": {
        "id": "0PKLjSTnrJ7O"
      }
    },
    {
      "cell_type": "markdown",
      "source": [
        "## 4. Model Building"
      ],
      "metadata": {
        "id": "oGM6FV3wrKzT"
      }
    },
    {
      "cell_type": "code",
      "source": [
        "# Train/Test Split, then SMOTE on Train\n",
        "X_train, X_test, y_train, y_test = train_test_split(\n",
        "    X, y, test_size=0.20, random_state=42, stratify=y\n",
        ")\n",
        "sm = SMOTE(random_state=42)\n",
        "X_train_sm, y_train_sm = sm.fit_resample(X_train, y_train)\n",
        "\n",
        "print(\"\\nShapes:\")\n",
        "print(\"X_train:\", X_train.shape, \"X_train_sm:\", X_train_sm.shape)\n",
        "print(\"X_test :\", X_test.shape)\n",
        "print(\"y_train:\", y_train.shape, \"y_train_sm:\", y_train_sm.shape)\n",
        "print(\"y_test :\", y_test.shape)"
      ],
      "metadata": {
        "id": "62k3svHJqBJl",
        "colab": {
          "base_uri": "https://localhost:8080/"
        },
        "outputId": "5c93e5c9-3830-4af2-b33a-3dd867b1efd5"
      },
      "execution_count": 66,
      "outputs": [
        {
          "output_type": "stream",
          "name": "stdout",
          "text": [
            "\n",
            "Shapes:\n",
            "X_train: (92, 14) X_train_sm: (166, 14)\n",
            "X_test : (24, 14)\n",
            "y_train: (92,) y_train_sm: (166,)\n",
            "y_test : (24,)\n"
          ]
        }
      ]
    },
    {
      "cell_type": "code",
      "source": [
        "# Train/Test Split, then SMOTE on Train\n",
        "X_30_train, X_30_test, y_30_train, y_30_test = train_test_split(\n",
        "    X, y, test_size=0.30, random_state=42, stratify=y\n",
        ")\n",
        "sm = SMOTE(random_state=42)\n",
        "X_train_30_sm, y_train_30_sm = sm.fit_resample(X_30_train, y_30_train)\n",
        "\n",
        "print(\"\\nShapes:\")\n",
        "print(\"X_train:\", X_30_train.shape, \"X_train_sm:\", X_train_30_sm.shape)\n",
        "print(\"X_test :\", X_30_test.shape)\n",
        "print(\"y_train:\", y_30_train.shape, \"y_train_sm:\", y_train_30_sm.shape)\n",
        "print(\"y_test :\", y_30_test.shape)"
      ],
      "metadata": {
        "id": "CHZoBXnUKAB4",
        "colab": {
          "base_uri": "https://localhost:8080/"
        },
        "outputId": "bc37cdef-59d1-42d3-d8a2-c5686b0b9927"
      },
      "execution_count": 67,
      "outputs": [
        {
          "output_type": "stream",
          "name": "stdout",
          "text": [
            "\n",
            "Shapes:\n",
            "X_train: (81, 14) X_train_sm: (146, 14)\n",
            "X_test : (35, 14)\n",
            "y_train: (81,) y_train_sm: (146,)\n",
            "y_test : (35,)\n"
          ]
        }
      ]
    },
    {
      "cell_type": "code",
      "source": [
        "# Logistic Regression\n",
        "# Initialize\n",
        "lr_model = LogisticRegression(random_state=42, solver=\"liblinear\")\n",
        "\n",
        "# Train on balanced training data\n",
        "lr_model.fit(X_train_sm, y_train_sm)\n",
        "\n",
        "# Predict\n",
        "y_pred_lr = lr_model.predict(X_test)\n",
        "y_prob_lr = lr_model.predict_proba(X_test)[:, 1]  # use probabilities for AUC\n",
        "\n",
        "# Metrics\n",
        "accuracy_lr  = accuracy_score(y_test, y_pred_lr)\n",
        "precision_lr = precision_score(y_test, y_pred_lr)\n",
        "recall_lr    = recall_score(y_test, y_pred_lr)\n",
        "f1_lr        = f1_score(y_test, y_pred_lr)\n",
        "auc_lr       = roc_auc_score(y_test, y_prob_lr)\n",
        "\n",
        "print(\"Logistic Regression (SMOTE train, 80/20 split):\")\n",
        "print(f\"Accuracy: {accuracy_lr:.4f}\")\n",
        "print(f\"Precision: {precision_lr:.4f}\")\n",
        "print(f\"Recall: {recall_lr:.4f}\")\n",
        "print(f\"F1-score: {f1_lr:.4f}\")\n",
        "print(f\"AUC: {auc_lr:.4f}\")\n"
      ],
      "metadata": {
        "id": "01WOOzaRrZiD",
        "colab": {
          "base_uri": "https://localhost:8080/"
        },
        "outputId": "c2c923d1-6354-45f3-a6b2-a3732ee498fd"
      },
      "execution_count": 68,
      "outputs": [
        {
          "output_type": "stream",
          "name": "stdout",
          "text": [
            "Logistic Regression (SMOTE train, 80/20 split):\n",
            "Accuracy: 0.6667\n",
            "Precision: 0.1250\n",
            "Recall: 0.5000\n",
            "F1-score: 0.2000\n",
            "AUC: 0.6818\n"
          ]
        }
      ]
    },
    {
      "cell_type": "code",
      "source": [
        "# Decision Tree\n",
        "dt_model = DecisionTreeClassifier(random_state=42)\n",
        "dt_model.fit(X_train_sm, y_train_sm)\n",
        "\n",
        "y_pred_dt = dt_model.predict(X_test)\n",
        "y_prob_dt = dt_model.predict_proba(X_test)[:, 1]\n",
        "\n",
        "accuracy_dt  = accuracy_score(y_test, y_pred_dt)\n",
        "precision_dt = precision_score(y_test, y_pred_dt)\n",
        "recall_dt    = recall_score(y_test, y_pred_dt)\n",
        "f1_dt        = f1_score(y_test, y_pred_dt)\n",
        "auc_dt       = roc_auc_score(y_test, y_prob_dt)\n",
        "\n",
        "print(\"Decision Tree (SMOTE train, 80/20 split):\")\n",
        "print(f\"Accuracy: {accuracy_dt:.4f}\")\n",
        "print(f\"Precision: {precision_dt:.4f}\")\n",
        "print(f\"Recall: {recall_dt:.4f}\")\n",
        "print(f\"F1-score: {f1_dt:.4f}\")\n",
        "print(f\"AUC: {auc_dt:.4f}\")\n"
      ],
      "metadata": {
        "id": "zd_wAhEBscE5",
        "colab": {
          "base_uri": "https://localhost:8080/"
        },
        "outputId": "cc528ba2-ced9-4888-bcda-4b6312ddd9f8"
      },
      "execution_count": 69,
      "outputs": [
        {
          "output_type": "stream",
          "name": "stdout",
          "text": [
            "Decision Tree (SMOTE train, 80/20 split):\n",
            "Accuracy: 0.8333\n",
            "Precision: 0.2500\n",
            "Recall: 0.5000\n",
            "F1-score: 0.3333\n",
            "AUC: 0.6818\n"
          ]
        }
      ]
    },
    {
      "cell_type": "code",
      "source": [
        "# K nearest neighbour\n",
        "# If you standardized earlier, keep it; if not, consider scaling for KNN.\n",
        "knn_model = KNeighborsClassifier(n_neighbors=5)\n",
        "knn_model.fit(X_train_sm, y_train_sm)\n",
        "\n",
        "y_pred_knn = knn_model.predict(X_test)\n",
        "# KNN has no predict_proba for some settings; for classifiers it does if classification is enabled.\n",
        "# In sklearn, KNNClassifier supports predict_proba:\n",
        "y_prob_knn = knn_model.predict_proba(X_test)[:, 1]\n",
        "\n",
        "accuracy_knn  = accuracy_score(y_test, y_pred_knn)\n",
        "precision_knn = precision_score(y_test, y_pred_knn)\n",
        "recall_knn    = recall_score(y_test, y_pred_knn)\n",
        "f1_knn        = f1_score(y_test, y_pred_knn)\n",
        "auc_knn       = roc_auc_score(y_test, y_prob_knn)\n",
        "\n",
        "print(\"KNN (SMOTE train, 80/20 split):\")\n",
        "print(f\"Accuracy: {accuracy_knn:.4f}\")\n",
        "print(f\"Precision: {precision_knn:.4f}\")\n",
        "print(f\"Recall: {recall_knn:.4f}\")\n",
        "print(f\"F1-score: {f1_knn:.4f}\")\n",
        "print(f\"AUC: {auc_knn:.4f}\")\n"
      ],
      "metadata": {
        "id": "GsaDqelYsk0g",
        "colab": {
          "base_uri": "https://localhost:8080/"
        },
        "outputId": "84846017-bbe4-4d01-abd4-54ca6eb60e86"
      },
      "execution_count": 70,
      "outputs": [
        {
          "output_type": "stream",
          "name": "stdout",
          "text": [
            "KNN (SMOTE train, 80/20 split):\n",
            "Accuracy: 0.7500\n",
            "Precision: 0.1667\n",
            "Recall: 0.5000\n",
            "F1-score: 0.2500\n",
            "AUC: 0.7614\n"
          ]
        }
      ]
    },
    {
      "cell_type": "code",
      "source": [
        "# Random Forest (Ensemble)\n",
        "rf_model = RandomForestClassifier(random_state=42)\n",
        "rf_model.fit(X_train_sm, y_train_sm)\n",
        "\n",
        "y_pred_rf = rf_model.predict(X_test)\n",
        "y_prob_rf = rf_model.predict_proba(X_test)[:, 1]\n",
        "\n",
        "accuracy_rf  = accuracy_score(y_test, y_pred_rf)\n",
        "precision_rf = precision_score(y_test, y_pred_rf)\n",
        "recall_rf    = recall_score(y_test, y_pred_rf)\n",
        "f1_rf        = f1_score(y_test, y_pred_rf)\n",
        "auc_rf       = roc_auc_score(y_test, y_prob_rf)\n",
        "\n",
        "print(\"Random Forest (SMOTE train, 80/20 split):\")\n",
        "print(f\"Accuracy: {accuracy_rf:.4f}\")\n",
        "print(f\"Precision: {precision_rf:.4f}\")\n",
        "print(f\"Recall: {recall_rf:.4f}\")\n",
        "print(f\"F1-score: {f1_rf:.4f}\")\n",
        "print(f\"AUC: {auc_rf:.4f}\")\n"
      ],
      "metadata": {
        "id": "ORMf_8iGspb3",
        "colab": {
          "base_uri": "https://localhost:8080/"
        },
        "outputId": "6e125bbf-dd1b-45c3-9fc2-ee7e1aa684a8"
      },
      "execution_count": 71,
      "outputs": [
        {
          "output_type": "stream",
          "name": "stdout",
          "text": [
            "Random Forest (SMOTE train, 80/20 split):\n",
            "Accuracy: 0.9583\n",
            "Precision: 1.0000\n",
            "Recall: 0.5000\n",
            "F1-score: 0.6667\n",
            "AUC: 0.9886\n"
          ]
        }
      ]
    },
    {
      "cell_type": "code",
      "source": [
        "\n",
        "import numpy as np, pandas as pd\n",
        "from sklearn.model_selection import StratifiedKFold, GridSearchCV\n",
        "from sklearn.preprocessing import StandardScaler\n",
        "from sklearn.linear_model import LogisticRegression\n",
        "from sklearn.tree import DecisionTreeClassifier\n",
        "from sklearn.neighbors import KNeighborsClassifier\n",
        "from sklearn.ensemble import RandomForestClassifier\n",
        "from sklearn.metrics import accuracy_score, precision_score, recall_score, f1_score, roc_auc_score\n",
        "from imblearn.pipeline import Pipeline as ImbPipeline\n",
        "from imblearn.over_sampling import SMOTE\n",
        "\n",
        "scaler = StandardScaler()\n",
        "smote  = SMOTE(random_state=42)\n",
        "\n",
        "# Safe, stratified CV: number of folds cannot exceed minority-class count\n",
        "minority = int(y_train.value_counts().min())\n",
        "n_splits_safe = max(2, min(5, minority))\n",
        "cv = StratifiedKFold(n_splits=n_splits_safe, shuffle=True, random_state=42)\n",
        "print(f\"Using StratifiedKFold(n_splits={n_splits_safe}); minority class in y_train = {minority}\")\n",
        "\n",
        "pipelines = {\n",
        "    \"Logistic Regression\": ImbPipeline([(\"smote\", smote), (\"scaler\", scaler),\n",
        "                                        (\"clf\", LogisticRegression(solver=\"liblinear\", random_state=42))]),\n",
        "    \"Decision Tree\": ImbPipeline([(\"smote\", smote), (\"clf\", DecisionTreeClassifier(random_state=42))]),\n",
        "    \"KNN\": ImbPipeline([(\"smote\", smote), (\"scaler\", scaler), (\"clf\", KNeighborsClassifier())]),\n",
        "    \"Random Forest\": ImbPipeline([(\"smote\", smote), (\"clf\", RandomForestClassifier(random_state=42))]),\n",
        "}\n",
        "\n",
        "param_grids = {\n",
        "    \"Logistic Regression\": {\"clf__C\": [0.001, 0.01, 0.1, 1, 10, 100]},\n",
        "    \"Decision Tree\": {\"clf__max_depth\": [None, 5, 10, 20, 30],\n",
        "                      \"clf__min_samples_split\": [2, 5, 10],\n",
        "                      \"clf__min_samples_leaf\": [1, 2, 4]},\n",
        "    \"KNN\": {\"clf__n_neighbors\": [3, 5, 7, 9],\n",
        "            \"clf__weights\": [\"uniform\", \"distance\"],\n",
        "            \"clf__p\": [1, 2]},\n",
        "    \"Random Forest\": {\"clf__n_estimators\": [100, 200, 500],\n",
        "                      \"clf__max_depth\": [None, 10, 20],\n",
        "                      \"clf__min_samples_split\": [2, 5, 10],\n",
        "                      \"clf__min_samples_leaf\": [1, 2, 4]},\n",
        "}\n",
        "\n",
        "def run_tuning(name, pipe, grid_params, scoring=\"roc_auc\"):\n",
        "    grid = GridSearchCV(pipe, grid_params, scoring=scoring, cv=cv, n_jobs=-1)\n",
        "    grid.fit(X_train, y_train)\n",
        "\n",
        "    # If any mean_test_score is NaN (e.g., AUC undefined), auto-fallback to Average Precision\n",
        "    if np.isnan(grid.cv_results_[\"mean_test_score\"]).any() and scoring == \"roc_auc\":\n",
        "        print(f\"[{name}] CV AUC had NaNs; retrying with 'average_precision'...\")\n",
        "        grid = GridSearchCV(pipe, grid_params, scoring=\"average_precision\", cv=cv, n_jobs=-1)\n",
        "        grid.fit(X_train, y_train)\n",
        "\n",
        "    best = grid.best_estimator_\n",
        "    y_pred = best.predict(X_test)\n",
        "    y_prob = best.predict_proba(X_test)[:, 1] if hasattr(best, \"predict_proba\") else y_pred\n",
        "\n",
        "    row = {\n",
        "        \"Model\": name,\n",
        "        \"Scoring\": grid.scoring,\n",
        "        \"Best Params\": grid.best_params_,\n",
        "        \"CV Score (Best)\": round(grid.best_score_, 4),\n",
        "        \"Accuracy\":  round(accuracy_score(y_test, y_pred), 4),\n",
        "        \"Precision\": round(precision_score(y_test, y_pred), 4),\n",
        "        \"Recall\":    round(recall_score(y_test, y_pred), 4),\n",
        "        \"F1-Score\":  round(f1_score(y_test, y_pred), 4),\n",
        "        \"AUC-ROC\":   round(roc_auc_score(y_test, y_prob), 4) if grid.scoring != \"average_precision\" else np.nan,\n",
        "    }\n",
        "    print(f\"\\n{name} – Best params: {grid.best_params_}\")\n",
        "    print(f\"{name} – Best CV {grid.scoring}: {row['CV Score (Best)']}\")\n",
        "    print(f\"{name} – Test: Acc={row['Accuracy']}, Prec={row['Precision']}, Rec={row['Recall']}, F1={row['F1-Score']}, AUC={row['AUC-ROC']}\")\n",
        "    return row\n",
        "\n",
        "tuned_rows = []\n",
        "for n in [\"Logistic Regression\", \"Decision Tree\", \"KNN\", \"Random Forest\"]:\n",
        "    tuned_rows.append(run_tuning(n, pipelines[n], param_grids[n], scoring=\"roc_auc\"))\n",
        "\n"
      ],
      "metadata": {
        "colab": {
          "base_uri": "https://localhost:8080/"
        },
        "id": "Ov_yzOYh6-Dx",
        "outputId": "1e8c0c13-7c2c-488c-f9c2-15891b9bfd86"
      },
      "execution_count": 80,
      "outputs": [
        {
          "output_type": "stream",
          "name": "stdout",
          "text": [
            "Using StratifiedKFold(n_splits=5); minority class in y_train = 9\n",
            "\n",
            "Logistic Regression – Best params: {'clf__C': 0.001}\n",
            "Logistic Regression – Best CV roc_auc: 0.8261\n",
            "Logistic Regression – Test: Acc=0.7083, Prec=0.2222, Rec=1.0, F1=0.3636, AUC=0.9318\n",
            "\n",
            "Decision Tree – Best params: {'clf__max_depth': None, 'clf__min_samples_leaf': 2, 'clf__min_samples_split': 2}\n",
            "Decision Tree – Best CV roc_auc: 0.4529\n",
            "Decision Tree – Test: Acc=0.9167, Prec=0.5, Rec=0.5, F1=0.5, AUC=0.6932\n",
            "\n",
            "KNN – Best params: {'clf__n_neighbors': 9, 'clf__p': 1, 'clf__weights': 'uniform'}\n",
            "KNN – Best CV roc_auc: 0.7768\n",
            "KNN – Test: Acc=0.75, Prec=0.25, Rec=1.0, F1=0.4, AUC=0.8977\n",
            "\n",
            "Random Forest – Best params: {'clf__max_depth': None, 'clf__min_samples_leaf': 4, 'clf__min_samples_split': 2, 'clf__n_estimators': 200}\n",
            "Random Forest – Best CV roc_auc: 0.8022\n",
            "Random Forest – Test: Acc=1.0, Prec=1.0, Rec=1.0, F1=1.0, AUC=1.0\n"
          ]
        }
      ]
    },
    {
      "cell_type": "markdown",
      "source": [
        "Stratified 5-fold cross-validation provides a stable estimate of generalization by averaging performance across balanced folds, reducing the luck of any single split.\n",
        "\n",
        "SMOTE is applied inside each training fold of the pipeline so the validation data stays untouched, preventing leakage and giving an honest score.\n",
        "\n",
        "Hyperparameters target the core bias–variance knobs of each model: C controls regularization strength in Logistic Regression; max_depth, min_samples_split, and min_samples_leaf regulate tree growth; KNN’s n_neighbors, weights, and p shape neighborhood size, voting, and distance; Random Forest’s n_estimators, max_depth, and min_samples_* balance capacity and stability.\n",
        "\n",
        "ROC–AUC is used as the selection metric because it evaluates ranking quality from predicted probabilities and remains reliable under class imbalance, making it a stronger signal than accuracy alone."
      ],
      "metadata": {
        "id": "mIxJpoDTuY6O"
      }
    },
    {
      "cell_type": "markdown",
      "source": [
        "## 5. Performance Evaluation"
      ],
      "metadata": {
        "id": "ZPBP3qGGufxH"
      }
    },
    {
      "cell_type": "code",
      "source": [
        "# === Baseline metrics collected here ===\n",
        "baseline_df = pd.DataFrame({\n",
        "    \"Model\": [\"Logistic Regression\", \"Decision Tree\", \"KNN\", \"Random Forest\"],\n",
        "    \"Variant\": [\"Baseline\"]*4,\n",
        "    \"Accuracy\":  [accuracy_lr,  accuracy_dt,  accuracy_knn,  accuracy_rf],\n",
        "    \"Precision\": [precision_lr, precision_dt, precision_knn, precision_rf],\n",
        "    \"Recall\":    [recall_lr,    recall_dt,    recall_knn,    recall_rf],\n",
        "    \"F1-Score\":  [f1_lr,        f1_dt,        f1_knn,        f1_rf],\n",
        "    \"AUC-ROC\":   [auc_lr,       auc_dt,       auc_knn,       auc_rf],\n",
        "})\n",
        "\n",
        "print(\"Baseline Model Performance:\")\n",
        "display(baseline_df)\n"
      ],
      "metadata": {
        "id": "uLZ783XhuYh3",
        "colab": {
          "base_uri": "https://localhost:8080/",
          "height": 192
        },
        "outputId": "65f00aa2-e67d-4254-8785-989338c18dae"
      },
      "execution_count": 76,
      "outputs": [
        {
          "output_type": "stream",
          "name": "stdout",
          "text": [
            "Baseline Model Performance:\n"
          ]
        },
        {
          "output_type": "display_data",
          "data": {
            "text/plain": [
              "                 Model   Variant  Accuracy  Precision  Recall  F1-Score  \\\n",
              "0  Logistic Regression  Baseline  0.666667   0.125000     0.5  0.200000   \n",
              "1        Decision Tree  Baseline  0.833333   0.250000     0.5  0.333333   \n",
              "2                  KNN  Baseline  0.750000   0.166667     0.5  0.250000   \n",
              "3        Random Forest  Baseline  0.958333   1.000000     0.5  0.666667   \n",
              "\n",
              "    AUC-ROC  \n",
              "0  0.681818  \n",
              "1  0.681818  \n",
              "2  0.761364  \n",
              "3  0.988636  "
            ],
            "text/html": [
              "\n",
              "  <div id=\"df-e7f24d97-9ef6-4740-803e-4d169ebaef40\" class=\"colab-df-container\">\n",
              "    <div>\n",
              "<style scoped>\n",
              "    .dataframe tbody tr th:only-of-type {\n",
              "        vertical-align: middle;\n",
              "    }\n",
              "\n",
              "    .dataframe tbody tr th {\n",
              "        vertical-align: top;\n",
              "    }\n",
              "\n",
              "    .dataframe thead th {\n",
              "        text-align: right;\n",
              "    }\n",
              "</style>\n",
              "<table border=\"1\" class=\"dataframe\">\n",
              "  <thead>\n",
              "    <tr style=\"text-align: right;\">\n",
              "      <th></th>\n",
              "      <th>Model</th>\n",
              "      <th>Variant</th>\n",
              "      <th>Accuracy</th>\n",
              "      <th>Precision</th>\n",
              "      <th>Recall</th>\n",
              "      <th>F1-Score</th>\n",
              "      <th>AUC-ROC</th>\n",
              "    </tr>\n",
              "  </thead>\n",
              "  <tbody>\n",
              "    <tr>\n",
              "      <th>0</th>\n",
              "      <td>Logistic Regression</td>\n",
              "      <td>Baseline</td>\n",
              "      <td>0.666667</td>\n",
              "      <td>0.125000</td>\n",
              "      <td>0.5</td>\n",
              "      <td>0.200000</td>\n",
              "      <td>0.681818</td>\n",
              "    </tr>\n",
              "    <tr>\n",
              "      <th>1</th>\n",
              "      <td>Decision Tree</td>\n",
              "      <td>Baseline</td>\n",
              "      <td>0.833333</td>\n",
              "      <td>0.250000</td>\n",
              "      <td>0.5</td>\n",
              "      <td>0.333333</td>\n",
              "      <td>0.681818</td>\n",
              "    </tr>\n",
              "    <tr>\n",
              "      <th>2</th>\n",
              "      <td>KNN</td>\n",
              "      <td>Baseline</td>\n",
              "      <td>0.750000</td>\n",
              "      <td>0.166667</td>\n",
              "      <td>0.5</td>\n",
              "      <td>0.250000</td>\n",
              "      <td>0.761364</td>\n",
              "    </tr>\n",
              "    <tr>\n",
              "      <th>3</th>\n",
              "      <td>Random Forest</td>\n",
              "      <td>Baseline</td>\n",
              "      <td>0.958333</td>\n",
              "      <td>1.000000</td>\n",
              "      <td>0.5</td>\n",
              "      <td>0.666667</td>\n",
              "      <td>0.988636</td>\n",
              "    </tr>\n",
              "  </tbody>\n",
              "</table>\n",
              "</div>\n",
              "    <div class=\"colab-df-buttons\">\n",
              "\n",
              "  <div class=\"colab-df-container\">\n",
              "    <button class=\"colab-df-convert\" onclick=\"convertToInteractive('df-e7f24d97-9ef6-4740-803e-4d169ebaef40')\"\n",
              "            title=\"Convert this dataframe to an interactive table.\"\n",
              "            style=\"display:none;\">\n",
              "\n",
              "  <svg xmlns=\"http://www.w3.org/2000/svg\" height=\"24px\" viewBox=\"0 -960 960 960\">\n",
              "    <path d=\"M120-120v-720h720v720H120Zm60-500h600v-160H180v160Zm220 220h160v-160H400v160Zm0 220h160v-160H400v160ZM180-400h160v-160H180v160Zm440 0h160v-160H620v160ZM180-180h160v-160H180v160Zm440 0h160v-160H620v160Z\"/>\n",
              "  </svg>\n",
              "    </button>\n",
              "\n",
              "  <style>\n",
              "    .colab-df-container {\n",
              "      display:flex;\n",
              "      gap: 12px;\n",
              "    }\n",
              "\n",
              "    .colab-df-convert {\n",
              "      background-color: #E8F0FE;\n",
              "      border: none;\n",
              "      border-radius: 50%;\n",
              "      cursor: pointer;\n",
              "      display: none;\n",
              "      fill: #1967D2;\n",
              "      height: 32px;\n",
              "      padding: 0 0 0 0;\n",
              "      width: 32px;\n",
              "    }\n",
              "\n",
              "    .colab-df-convert:hover {\n",
              "      background-color: #E2EBFA;\n",
              "      box-shadow: 0px 1px 2px rgba(60, 64, 67, 0.3), 0px 1px 3px 1px rgba(60, 64, 67, 0.15);\n",
              "      fill: #174EA6;\n",
              "    }\n",
              "\n",
              "    .colab-df-buttons div {\n",
              "      margin-bottom: 4px;\n",
              "    }\n",
              "\n",
              "    [theme=dark] .colab-df-convert {\n",
              "      background-color: #3B4455;\n",
              "      fill: #D2E3FC;\n",
              "    }\n",
              "\n",
              "    [theme=dark] .colab-df-convert:hover {\n",
              "      background-color: #434B5C;\n",
              "      box-shadow: 0px 1px 3px 1px rgba(0, 0, 0, 0.15);\n",
              "      filter: drop-shadow(0px 1px 2px rgba(0, 0, 0, 0.3));\n",
              "      fill: #FFFFFF;\n",
              "    }\n",
              "  </style>\n",
              "\n",
              "    <script>\n",
              "      const buttonEl =\n",
              "        document.querySelector('#df-e7f24d97-9ef6-4740-803e-4d169ebaef40 button.colab-df-convert');\n",
              "      buttonEl.style.display =\n",
              "        google.colab.kernel.accessAllowed ? 'block' : 'none';\n",
              "\n",
              "      async function convertToInteractive(key) {\n",
              "        const element = document.querySelector('#df-e7f24d97-9ef6-4740-803e-4d169ebaef40');\n",
              "        const dataTable =\n",
              "          await google.colab.kernel.invokeFunction('convertToInteractive',\n",
              "                                                    [key], {});\n",
              "        if (!dataTable) return;\n",
              "\n",
              "        const docLinkHtml = 'Like what you see? Visit the ' +\n",
              "          '<a target=\"_blank\" href=https://colab.research.google.com/notebooks/data_table.ipynb>data table notebook</a>'\n",
              "          + ' to learn more about interactive tables.';\n",
              "        element.innerHTML = '';\n",
              "        dataTable['output_type'] = 'display_data';\n",
              "        await google.colab.output.renderOutput(dataTable, element);\n",
              "        const docLink = document.createElement('div');\n",
              "        docLink.innerHTML = docLinkHtml;\n",
              "        element.appendChild(docLink);\n",
              "      }\n",
              "    </script>\n",
              "  </div>\n",
              "\n",
              "\n",
              "    <div id=\"df-5d724cbd-b153-40d1-aadb-452d7812ebb1\">\n",
              "      <button class=\"colab-df-quickchart\" onclick=\"quickchart('df-5d724cbd-b153-40d1-aadb-452d7812ebb1')\"\n",
              "                title=\"Suggest charts\"\n",
              "                style=\"display:none;\">\n",
              "\n",
              "<svg xmlns=\"http://www.w3.org/2000/svg\" height=\"24px\"viewBox=\"0 0 24 24\"\n",
              "     width=\"24px\">\n",
              "    <g>\n",
              "        <path d=\"M19 3H5c-1.1 0-2 .9-2 2v14c0 1.1.9 2 2 2h14c1.1 0 2-.9 2-2V5c0-1.1-.9-2-2-2zM9 17H7v-7h2v7zm4 0h-2V7h2v10zm4 0h-2v-4h2v4z\"/>\n",
              "    </g>\n",
              "</svg>\n",
              "      </button>\n",
              "\n",
              "<style>\n",
              "  .colab-df-quickchart {\n",
              "      --bg-color: #E8F0FE;\n",
              "      --fill-color: #1967D2;\n",
              "      --hover-bg-color: #E2EBFA;\n",
              "      --hover-fill-color: #174EA6;\n",
              "      --disabled-fill-color: #AAA;\n",
              "      --disabled-bg-color: #DDD;\n",
              "  }\n",
              "\n",
              "  [theme=dark] .colab-df-quickchart {\n",
              "      --bg-color: #3B4455;\n",
              "      --fill-color: #D2E3FC;\n",
              "      --hover-bg-color: #434B5C;\n",
              "      --hover-fill-color: #FFFFFF;\n",
              "      --disabled-bg-color: #3B4455;\n",
              "      --disabled-fill-color: #666;\n",
              "  }\n",
              "\n",
              "  .colab-df-quickchart {\n",
              "    background-color: var(--bg-color);\n",
              "    border: none;\n",
              "    border-radius: 50%;\n",
              "    cursor: pointer;\n",
              "    display: none;\n",
              "    fill: var(--fill-color);\n",
              "    height: 32px;\n",
              "    padding: 0;\n",
              "    width: 32px;\n",
              "  }\n",
              "\n",
              "  .colab-df-quickchart:hover {\n",
              "    background-color: var(--hover-bg-color);\n",
              "    box-shadow: 0 1px 2px rgba(60, 64, 67, 0.3), 0 1px 3px 1px rgba(60, 64, 67, 0.15);\n",
              "    fill: var(--button-hover-fill-color);\n",
              "  }\n",
              "\n",
              "  .colab-df-quickchart-complete:disabled,\n",
              "  .colab-df-quickchart-complete:disabled:hover {\n",
              "    background-color: var(--disabled-bg-color);\n",
              "    fill: var(--disabled-fill-color);\n",
              "    box-shadow: none;\n",
              "  }\n",
              "\n",
              "  .colab-df-spinner {\n",
              "    border: 2px solid var(--fill-color);\n",
              "    border-color: transparent;\n",
              "    border-bottom-color: var(--fill-color);\n",
              "    animation:\n",
              "      spin 1s steps(1) infinite;\n",
              "  }\n",
              "\n",
              "  @keyframes spin {\n",
              "    0% {\n",
              "      border-color: transparent;\n",
              "      border-bottom-color: var(--fill-color);\n",
              "      border-left-color: var(--fill-color);\n",
              "    }\n",
              "    20% {\n",
              "      border-color: transparent;\n",
              "      border-left-color: var(--fill-color);\n",
              "      border-top-color: var(--fill-color);\n",
              "    }\n",
              "    30% {\n",
              "      border-color: transparent;\n",
              "      border-left-color: var(--fill-color);\n",
              "      border-top-color: var(--fill-color);\n",
              "      border-right-color: var(--fill-color);\n",
              "    }\n",
              "    40% {\n",
              "      border-color: transparent;\n",
              "      border-right-color: var(--fill-color);\n",
              "      border-top-color: var(--fill-color);\n",
              "    }\n",
              "    60% {\n",
              "      border-color: transparent;\n",
              "      border-right-color: var(--fill-color);\n",
              "    }\n",
              "    80% {\n",
              "      border-color: transparent;\n",
              "      border-right-color: var(--fill-color);\n",
              "      border-bottom-color: var(--fill-color);\n",
              "    }\n",
              "    90% {\n",
              "      border-color: transparent;\n",
              "      border-bottom-color: var(--fill-color);\n",
              "    }\n",
              "  }\n",
              "</style>\n",
              "\n",
              "      <script>\n",
              "        async function quickchart(key) {\n",
              "          const quickchartButtonEl =\n",
              "            document.querySelector('#' + key + ' button');\n",
              "          quickchartButtonEl.disabled = true;  // To prevent multiple clicks.\n",
              "          quickchartButtonEl.classList.add('colab-df-spinner');\n",
              "          try {\n",
              "            const charts = await google.colab.kernel.invokeFunction(\n",
              "                'suggestCharts', [key], {});\n",
              "          } catch (error) {\n",
              "            console.error('Error during call to suggestCharts:', error);\n",
              "          }\n",
              "          quickchartButtonEl.classList.remove('colab-df-spinner');\n",
              "          quickchartButtonEl.classList.add('colab-df-quickchart-complete');\n",
              "        }\n",
              "        (() => {\n",
              "          let quickchartButtonEl =\n",
              "            document.querySelector('#df-5d724cbd-b153-40d1-aadb-452d7812ebb1 button');\n",
              "          quickchartButtonEl.style.display =\n",
              "            google.colab.kernel.accessAllowed ? 'block' : 'none';\n",
              "        })();\n",
              "      </script>\n",
              "    </div>\n",
              "\n",
              "  <div id=\"id_63a2eab4-a2aa-4d21-9895-ca7a38e6e726\">\n",
              "    <style>\n",
              "      .colab-df-generate {\n",
              "        background-color: #E8F0FE;\n",
              "        border: none;\n",
              "        border-radius: 50%;\n",
              "        cursor: pointer;\n",
              "        display: none;\n",
              "        fill: #1967D2;\n",
              "        height: 32px;\n",
              "        padding: 0 0 0 0;\n",
              "        width: 32px;\n",
              "      }\n",
              "\n",
              "      .colab-df-generate:hover {\n",
              "        background-color: #E2EBFA;\n",
              "        box-shadow: 0px 1px 2px rgba(60, 64, 67, 0.3), 0px 1px 3px 1px rgba(60, 64, 67, 0.15);\n",
              "        fill: #174EA6;\n",
              "      }\n",
              "\n",
              "      [theme=dark] .colab-df-generate {\n",
              "        background-color: #3B4455;\n",
              "        fill: #D2E3FC;\n",
              "      }\n",
              "\n",
              "      [theme=dark] .colab-df-generate:hover {\n",
              "        background-color: #434B5C;\n",
              "        box-shadow: 0px 1px 3px 1px rgba(0, 0, 0, 0.15);\n",
              "        filter: drop-shadow(0px 1px 2px rgba(0, 0, 0, 0.3));\n",
              "        fill: #FFFFFF;\n",
              "      }\n",
              "    </style>\n",
              "    <button class=\"colab-df-generate\" onclick=\"generateWithVariable('baseline_df')\"\n",
              "            title=\"Generate code using this dataframe.\"\n",
              "            style=\"display:none;\">\n",
              "\n",
              "  <svg xmlns=\"http://www.w3.org/2000/svg\" height=\"24px\"viewBox=\"0 0 24 24\"\n",
              "       width=\"24px\">\n",
              "    <path d=\"M7,19H8.4L18.45,9,17,7.55,7,17.6ZM5,21V16.75L18.45,3.32a2,2,0,0,1,2.83,0l1.4,1.43a1.91,1.91,0,0,1,.58,1.4,1.91,1.91,0,0,1-.58,1.4L9.25,21ZM18.45,9,17,7.55Zm-12,3A5.31,5.31,0,0,0,4.9,8.1,5.31,5.31,0,0,0,1,6.5,5.31,5.31,0,0,0,4.9,4.9,5.31,5.31,0,0,0,6.5,1,5.31,5.31,0,0,0,8.1,4.9,5.31,5.31,0,0,0,12,6.5,5.46,5.46,0,0,0,6.5,12Z\"/>\n",
              "  </svg>\n",
              "    </button>\n",
              "    <script>\n",
              "      (() => {\n",
              "      const buttonEl =\n",
              "        document.querySelector('#id_63a2eab4-a2aa-4d21-9895-ca7a38e6e726 button.colab-df-generate');\n",
              "      buttonEl.style.display =\n",
              "        google.colab.kernel.accessAllowed ? 'block' : 'none';\n",
              "\n",
              "      buttonEl.onclick = () => {\n",
              "        google.colab.notebook.generateWithVariable('baseline_df');\n",
              "      }\n",
              "      })();\n",
              "    </script>\n",
              "  </div>\n",
              "\n",
              "    </div>\n",
              "  </div>\n"
            ],
            "application/vnd.google.colaboratory.intrinsic+json": {
              "type": "dataframe",
              "variable_name": "baseline_df",
              "summary": "{\n  \"name\": \"baseline_df\",\n  \"rows\": 4,\n  \"fields\": [\n    {\n      \"column\": \"Model\",\n      \"properties\": {\n        \"dtype\": \"string\",\n        \"num_unique_values\": 4,\n        \"samples\": [\n          \"Decision Tree\",\n          \"Random Forest\",\n          \"Logistic Regression\"\n        ],\n        \"semantic_type\": \"\",\n        \"description\": \"\"\n      }\n    },\n    {\n      \"column\": \"Variant\",\n      \"properties\": {\n        \"dtype\": \"category\",\n        \"num_unique_values\": 1,\n        \"samples\": [\n          \"Baseline\"\n        ],\n        \"semantic_type\": \"\",\n        \"description\": \"\"\n      }\n    },\n    {\n      \"column\": \"Accuracy\",\n      \"properties\": {\n        \"dtype\": \"number\",\n        \"std\": 0.12441995046645085,\n        \"min\": 0.6666666666666666,\n        \"max\": 0.9583333333333334,\n        \"num_unique_values\": 4,\n        \"samples\": [\n          0.8333333333333334\n        ],\n        \"semantic_type\": \"\",\n        \"description\": \"\"\n      }\n    },\n    {\n      \"column\": \"Precision\",\n      \"properties\": {\n        \"dtype\": \"number\",\n        \"std\": 0.41300474169997936,\n        \"min\": 0.125,\n        \"max\": 1.0,\n        \"num_unique_values\": 4,\n        \"samples\": [\n          0.25\n        ],\n        \"semantic_type\": \"\",\n        \"description\": \"\"\n      }\n    },\n    {\n      \"column\": \"Recall\",\n      \"properties\": {\n        \"dtype\": \"number\",\n        \"std\": 0.0,\n        \"min\": 0.5,\n        \"max\": 0.5,\n        \"num_unique_values\": 1,\n        \"samples\": [\n          0.5\n        ],\n        \"semantic_type\": \"\",\n        \"description\": \"\"\n      }\n    },\n    {\n      \"column\": \"F1-Score\",\n      \"properties\": {\n        \"dtype\": \"number\",\n        \"std\": 0.21010358997056314,\n        \"min\": 0.2,\n        \"max\": 0.6666666666666666,\n        \"num_unique_values\": 4,\n        \"samples\": [\n          0.3333333333333333\n        ],\n        \"semantic_type\": \"\",\n        \"description\": \"\"\n      }\n    },\n    {\n      \"column\": \"AUC-ROC\",\n      \"properties\": {\n        \"dtype\": \"number\",\n        \"std\": 0.14508119698640573,\n        \"min\": 0.6818181818181818,\n        \"max\": 0.9886363636363636,\n        \"num_unique_values\": 4,\n        \"samples\": [\n          0.6818181818181818\n        ],\n        \"semantic_type\": \"\",\n        \"description\": \"\"\n      }\n    }\n  ]\n}"
            }
          },
          "metadata": {}
        }
      ]
    },
    {
      "cell_type": "code",
      "source": [
        "import matplotlib.pyplot as plt\n",
        "import seaborn as sns\n",
        "\n",
        "# Select only the metric columns\n",
        "metrics = [\"Precision\", \"Recall\", \"F1-Score\", \"AUC-ROC\"]\n",
        "\n",
        "# Melt dataframe for easier plotting\n",
        "plot_df = baseline_df.melt(id_vars=[\"Model\"], value_vars=metrics,\n",
        "                           var_name=\"Metric\", value_name=\"Score\")\n",
        "\n",
        "plt.figure(figsize=(10,6))\n",
        "sns.barplot(data=plot_df, x=\"Model\", y=\"Score\", hue=\"Metric\")\n",
        "plt.title(\"Baseline Model Performance Comparison\")\n",
        "plt.ylim(0, 1.1)\n",
        "plt.ylabel(\"Score\")\n",
        "plt.xlabel(\"\")\n",
        "plt.legend(title=\"Metric\")\n",
        "plt.xticks(rotation=0)\n",
        "plt.tight_layout()\n",
        "plt.show()\n"
      ],
      "metadata": {
        "id": "_OmWxmlwv5x5",
        "colab": {
          "base_uri": "https://localhost:8080/",
          "height": 607
        },
        "outputId": "baf5794c-0e80-403c-f61f-e25aea023089"
      },
      "execution_count": 77,
      "outputs": [
        {
          "output_type": "display_data",
          "data": {
            "text/plain": [
              "<Figure size 1000x600 with 1 Axes>"
            ],
            "image/png": "[encoded data removed]"
          },
          "metadata": {}
        }
      ]
    },
    {
      "cell_type": "markdown",
      "source": [
        "### d. Best Model Identification  \n",
        "\n",
        "Among all the models trained, **Random Forest** performed the best.  \n",
        "\n",
        "- It achieved the **highest Accuracy (0.96)** and the **highest AUC-ROC (0.99)**, showing excellent ability to separate buggy and non-buggy classes.  \n",
        "- Precision was **perfect (1.0)**, meaning whenever it predicted a bug, meaning it never produced false positives.  \n",
        "- Recall was **0.5**, which is moderate, but the strong balance of Precision and Recall gave the **highest F1-score (0.67)** compared to other models.  \n",
        "- As an ensemble method, Random Forest combines multiple trees, reducing overfitting and capturing complex, non-linear relationships better than Logistic Regression, Decision Tree, or KNN.  \n",
        "\n",
        "**Conclusion:**  \n",
        "Random Forest is considered the best model for this dataset because it consistently outperformed the other classifiers across key evaluation measures and offers robustness, stability, and strong generalization ability.  \n"
      ],
      "metadata": {
        "id": "6SmCfCNjwGR7"
      }
    }
  ]
}